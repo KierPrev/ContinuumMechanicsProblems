{
 "cells": [
  {
   "cell_type": "code",
   "execution_count": 30,
   "id": "8cac3bc6",
   "metadata": {},
   "outputs": [],
   "source": [
    "using Symbolics, Latexify, LinearAlgebra"
   ]
  },
  {
   "cell_type": "code",
   "execution_count": 31,
   "id": "f660fd0b",
   "metadata": {},
   "outputs": [],
   "source": [
    "T = [5 4 0;\n",
    "    4 -1 0;\n",
    "    0 0 3];"
   ]
  },
  {
   "cell_type": "markdown",
   "id": "6d996e62",
   "metadata": {},
   "source": [
    "#### (a) Escribiendo ecuación característica\n",
    "\n",
    "Ec. característica: $det(A-\\lambda I) = 0$\n",
    "\n",
    "A: nuestro tensor representado en matriz 3x3\n",
    "\n",
    "$\\lambda$: va a representar los autovalores (escalares)\n",
    "\n",
    "I: matriz identidad 3x3"
   ]
  },
  {
   "cell_type": "code",
   "execution_count": 32,
   "id": "db382494",
   "metadata": {},
   "outputs": [],
   "source": [
    "I = [1 0 0;\n",
    "    0 1 0;\n",
    "    0 0 1];"
   ]
  },
  {
   "cell_type": "code",
   "execution_count": 33,
   "id": "cc96dadd",
   "metadata": {},
   "outputs": [
    {
     "data": {
      "text/latex": [
       "$$ \\begin{equation}\n",
       "\\left[\n",
       "\\begin{array}{ccc}\n",
       "5 - \\lambda & 4 & 0 \\\\\n",
       "4 & -1 - \\lambda & 0 \\\\\n",
       "0 & 0 & 3 - \\lambda \\\\\n",
       "\\end{array}\n",
       "\\right]\n",
       "\\end{equation}\n",
       " $$"
      ],
      "text/plain": [
       "3×3 Matrix{Num}:\n",
       " 5 - λ       4      0\n",
       "     4  -1 - λ      0\n",
       "     0       0  3 - λ"
      ]
     },
     "metadata": {},
     "output_type": "display_data"
    }
   ],
   "source": [
    "using Symbolics\n",
    "\n",
    "# Definimos lambda como variable\n",
    "@variables λ\n",
    "\n",
    "## Construimos el interior del determinante\n",
    "M = T - λ*I"
   ]
  },
  {
   "cell_type": "code",
   "execution_count": 34,
   "id": "0ea3a009",
   "metadata": {},
   "outputs": [
    {
     "data": {
      "text/latex": [
       "$$ \\begin{equation}\n",
       " - 16 \\left( 3 - \\lambda \\right) + \\left( 3 - \\lambda \\right) \\left( 5 - \\lambda \\right) \\left( -1 - \\lambda \\right)\n",
       "\\end{equation}\n",
       " $$"
      ],
      "text/plain": [
       "-16(3 - λ) + (3 - λ)*(5 - λ)*(-1 - λ)"
      ]
     },
     "metadata": {},
     "output_type": "display_data"
    }
   ],
   "source": [
    "det(M)"
   ]
  },
  {
   "cell_type": "markdown",
   "id": "9158554e",
   "metadata": {},
   "source": [
    "Obtengamos directamente los autovalores y autovectores"
   ]
  },
  {
   "cell_type": "code",
   "execution_count": 35,
   "id": "c8ef02a5",
   "metadata": {},
   "outputs": [],
   "source": [
    "eigensystem = eigen(T)\n",
    "eigenvals = eigensystem.values;"
   ]
  },
  {
   "cell_type": "code",
   "execution_count": 36,
   "id": "59080658",
   "metadata": {},
   "outputs": [],
   "source": [
    "eigenvecs = eigensystem.vectors;\n"
   ]
  },
  {
   "cell_type": "code",
   "execution_count": 37,
   "id": "f7ec9b24",
   "metadata": {},
   "outputs": [
    {
     "name": "stdout",
     "output_type": "stream",
     "text": [
      "Autovalores"
     ]
    },
    {
     "data": {
      "text/latex": [
       "\\begin{equation}\n",
       "\\left[\n",
       "\\begin{array}{c}\n",
       "-2.999999999999992 \\\\\n",
       "3.0 \\\\\n",
       "7.0 \\\\\n",
       "\\end{array}\n",
       "\\right]\n",
       "\\end{equation}\n"
      ],
      "text/plain": [
       "L\"\\begin{equation}\n",
       "\\left[\n",
       "\\begin{array}{c}\n",
       "-2.999999999999992 \\\\\n",
       "3.0 \\\\\n",
       "7.0 \\\\\n",
       "\\end{array}\n",
       "\\right]\n",
       "\\end{equation}\n",
       "\""
      ]
     },
     "metadata": {},
     "output_type": "display_data"
    }
   ],
   "source": [
    "print(\"Autovalores\")\n",
    "latexify(eigenvals)"
   ]
  },
  {
   "cell_type": "code",
   "execution_count": 38,
   "id": "7ac0240d",
   "metadata": {},
   "outputs": [
    {
     "name": "stdout",
     "output_type": "stream",
     "text": [
      "Autovectores"
     ]
    },
    {
     "data": {
      "text/latex": [
       "\\begin{equation}\n",
       "\\left[\n",
       "\\begin{array}{ccc}\n",
       "-0.4472135954999581 & 0.0 & 0.8944271909999157 \\\\\n",
       "0.8944271909999157 & 0.0 & 0.44721359549995815 \\\\\n",
       "0.0 & 1.0 & 0.0 \\\\\n",
       "\\end{array}\n",
       "\\right]\n",
       "\\end{equation}\n"
      ],
      "text/plain": [
       "L\"\\begin{equation}\n",
       "\\left[\n",
       "\\begin{array}{ccc}\n",
       "-0.4472135954999581 & 0.0 & 0.8944271909999157 \\\\\n",
       "0.8944271909999157 & 0.0 & 0.44721359549995815 \\\\\n",
       "0.0 & 1.0 & 0.0 \\\\\n",
       "\\end{array}\n",
       "\\right]\n",
       "\\end{equation}\n",
       "\""
      ]
     },
     "metadata": {},
     "output_type": "display_data"
    }
   ],
   "source": [
    "print(\"Autovectores\")\n",
    "latexify(eigenvecs)"
   ]
  },
  {
   "cell_type": "markdown",
   "id": "67431e1b",
   "metadata": {},
   "source": [
    "#### (b) Encontrando invariantes principales"
   ]
  },
  {
   "cell_type": "code",
   "execution_count": 40,
   "id": "b44e4efa",
   "metadata": {},
   "outputs": [
    {
     "data": {
      "text/plain": [
       "7"
      ]
     },
     "metadata": {},
     "output_type": "display_data"
    }
   ],
   "source": [
    "I1 = tr(T)"
   ]
  },
  {
   "cell_type": "code",
   "execution_count": 42,
   "id": "4cb84c30",
   "metadata": {},
   "outputs": [
    {
     "data": {
      "text/plain": [
       "-9.0"
      ]
     },
     "metadata": {},
     "output_type": "display_data"
    }
   ],
   "source": [
    "I2 = 1/2 * ((tr(T))^2-(tr(T^2)))"
   ]
  },
  {
   "cell_type": "code",
   "execution_count": 43,
   "id": "f96c0f91",
   "metadata": {},
   "outputs": [
    {
     "data": {
      "text/plain": [
       "-63.0"
      ]
     },
     "metadata": {},
     "output_type": "display_data"
    }
   ],
   "source": [
    "I3 = det(T)"
   ]
  },
  {
   "cell_type": "markdown",
   "id": "5cc03fd0",
   "metadata": {},
   "source": [
    "#### (d) Podría S representar a T en otra base?"
   ]
  },
  {
   "cell_type": "code",
   "execution_count": 45,
   "id": "6b68d2c8",
   "metadata": {},
   "outputs": [],
   "source": [
    "S = [7 2 0;\n",
    "    2 1 0;\n",
    "    0 0 -1];"
   ]
  },
  {
   "cell_type": "code",
   "execution_count": 47,
   "id": "e43b7c9b",
   "metadata": {},
   "outputs": [],
   "source": [
    "Esystem = eigen(S);"
   ]
  },
  {
   "cell_type": "code",
   "execution_count": 49,
   "id": "52f1b4b3",
   "metadata": {},
   "outputs": [],
   "source": [
    "Seigenvals = Esystem.values;\n",
    "Seigenvecs = Esystem.vectors;"
   ]
  },
  {
   "cell_type": "code",
   "execution_count": 51,
   "id": "ae5f2a45",
   "metadata": {},
   "outputs": [
    {
     "data": {
      "text/plain": [
       "false"
      ]
     },
     "metadata": {},
     "output_type": "display_data"
    }
   ],
   "source": [
    "if Seigenvals == eigenvals && Seigenvecs == eigenvecs\n",
    "    true\n",
    "else\n",
    "    false\n",
    "end"
   ]
  }
 ],
 "metadata": {
  "kernelspec": {
   "display_name": "Julia 1.11.4",
   "language": "julia",
   "name": "julia-1.11"
  },
  "language_info": {
   "file_extension": ".jl",
   "mimetype": "application/julia",
   "name": "julia",
   "version": "1.11.4"
  }
 },
 "nbformat": 4,
 "nbformat_minor": 5
}
