{
 "cells": [
  {
   "cell_type": "code",
   "execution_count": 1,
   "id": "30bae8ab",
   "metadata": {},
   "outputs": [
    {
     "data": {
      "text/plain": [
       "chi (generic function with 1 method)"
      ]
     },
     "metadata": {},
     "output_type": "display_data"
    }
   ],
   "source": [
    "# Función que define el movimiento chi(X, t)\n",
    "function chi(X, t)\n",
    "    x1 = X[1] + 0.2 * t * X[1]  # Estiramiento en x1\n",
    "    x2 = X[2] - 0.1 * t * X[2]  # Compresión en x2\n",
    "    return [x1, x2]\n",
    "end"
   ]
  },
  {
   "cell_type": "code",
   "execution_count": null,
   "id": "bfd61f44",
   "metadata": {},
   "outputs": [
    {
     "name": "stdout",
     "output_type": "stream",
     "text": [
      "[1.2, 1.8]\n"
     ]
    }
   ],
   "source": [
    "# Calcular la posición actual x para una partícula en X=(1,2) y t=1\n",
    "X = [1.0, 2.0]\n",
    "t = 1\n",
    "x = chi(X,t)"
   ]
  },
  {
   "cell_type": "code",
   "execution_count": 16,
   "id": "fa9ef052",
   "metadata": {},
   "outputs": [
    {
     "data": {
      "text/plain": [
       "2-element Vector{Float64}:\n",
       "  0.19999999999999996\n",
       " -0.19999999999999996"
      ]
     },
     "metadata": {},
     "output_type": "display_data"
    }
   ],
   "source": [
    "# Calcular el vector de desplazamiento u = x - X\n",
    "u = x - X"
   ]
  },
  {
   "cell_type": "code",
   "execution_count": 19,
   "id": "f35d99d8",
   "metadata": {},
   "outputs": [
    {
     "name": "stdout",
     "output_type": "stream",
     "text": [
      "Configuración de refencia, X: [1.0, 2.0]\n",
      "Configuración actual, x: [1.2, 1.8]\n",
      "Vector de desplazamiento, u: [0.19999999999999996, -0.19999999999999996]\n"
     ]
    }
   ],
   "source": [
    "println(\"Configuración de refencia, X: \", X)\n",
    "println(\"Configuración actual, x: \", x)\n",
    "println(\"Vector de desplazamiento, u: \", u)"
   ]
  }
 ],
 "metadata": {
  "kernelspec": {
   "display_name": "Julia 1.11.4",
   "language": "julia",
   "name": "julia-1.11"
  },
  "language_info": {
   "file_extension": ".jl",
   "mimetype": "application/julia",
   "name": "julia",
   "version": "1.11.4"
  }
 },
 "nbformat": 4,
 "nbformat_minor": 5
}
