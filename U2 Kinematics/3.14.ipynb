{
 "cells": [
  {
   "cell_type": "code",
   "execution_count": 4,
   "id": "4fe15459",
   "metadata": {},
   "outputs": [],
   "source": [
    "using SymPy\n",
    "\n",
    "x,y = symbols(\"x y\");"
   ]
  },
  {
   "cell_type": "code",
   "execution_count": 23,
   "id": "eae13749",
   "metadata": {},
   "outputs": [],
   "source": [
    "# Campo de velocidades v\n",
    "v1 = -y\n",
    "v2 = x;"
   ]
  },
  {
   "cell_type": "code",
   "execution_count": 24,
   "id": "fee88e01",
   "metadata": {},
   "outputs": [
    {
     "data": {
      "text/latex": [
       "$\\left[\\begin{smallmatrix}0 & -1\\\\1 & 0\\end{smallmatrix}\\right]$"
      ],
      "text/plain": [
       "2×2 Matrix{Sym{PyCall.PyObject}}:\n",
       " 0  -1\n",
       " 1   0"
      ]
     },
     "metadata": {},
     "output_type": "display_data"
    }
   ],
   "source": [
    "# Calculemos el tensor gradiente de velocidad, ∇v\n",
    "grad_v = [diff(v1,x) diff(v1,y); diff(v2,x) diff(v2,y)]"
   ]
  },
  {
   "cell_type": "code",
   "execution_count": 25,
   "id": "07c30a68",
   "metadata": {},
   "outputs": [
    {
     "data": {
      "text/latex": [
       "$\\left[\\begin{smallmatrix}0 & -1.0\\\\1.0 & 0\\end{smallmatrix}\\right]$"
      ],
      "text/plain": [
       "2×2 Matrix{Sym{PyCall.PyObject}}:\n",
       "                0  -1.00000000000000\n",
       " 1.00000000000000                  0"
      ]
     },
     "metadata": {},
     "output_type": "display_data"
    }
   ],
   "source": [
    "# Calculemos el tensor spin\n",
    "W = 0.5 * (grad_v - transpose(grad_v))"
   ]
  },
  {
   "cell_type": "code",
   "execution_count": 26,
   "id": "f23ee38d",
   "metadata": {},
   "outputs": [
    {
     "data": {
      "text/latex": [
       "$2$"
      ],
      "text/plain": [
       "2"
      ]
     },
     "metadata": {},
     "output_type": "display_data"
    }
   ],
   "source": [
    "# Calculemos el vector velocidad angular\n",
    "omega_z = diff(v2,x) - diff(v1,y)"
   ]
  }
 ],
 "metadata": {
  "kernelspec": {
   "display_name": "Julia 1.11.4",
   "language": "julia",
   "name": "julia-1.11"
  },
  "language_info": {
   "file_extension": ".jl",
   "mimetype": "application/julia",
   "name": "julia",
   "version": "1.11.4"
  }
 },
 "nbformat": 4,
 "nbformat_minor": 5
}
