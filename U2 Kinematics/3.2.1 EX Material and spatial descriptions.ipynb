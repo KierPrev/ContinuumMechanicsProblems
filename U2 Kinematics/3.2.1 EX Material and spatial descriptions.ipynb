{
 "cells": [
  {
   "cell_type": "code",
   "execution_count": 1,
   "id": "2827cd5e",
   "metadata": {},
   "outputs": [
    {
     "data": {
      "text/plain": [
       "chi (generic function with 1 method)"
      ]
     },
     "metadata": {},
     "output_type": "display_data"
    }
   ],
   "source": [
    "# Función que define el movimiento chi(X, t)\n",
    "function chi(X, t, k)\n",
    "    x1 = X[1] + k * t * X[2]  # Estiramiento en x1\n",
    "    x2 = (1 + k * t) * X[2]  # Compresión en x2\n",
    "    x3 = X[3]\n",
    "    return [x1, x2, x3]\n",
    "end"
   ]
  },
  {
   "cell_type": "code",
   "execution_count": 2,
   "id": "e1f5ed1f",
   "metadata": {},
   "outputs": [
    {
     "data": {
      "text/plain": [
       "temp (generic function with 1 method)"
      ]
     },
     "metadata": {},
     "output_type": "display_data"
    }
   ],
   "source": [
    "function temp(x, alpha)\n",
    "    return alpha * (x[1] + x[2])\n",
    "end"
   ]
  },
  {
   "cell_type": "code",
   "execution_count": 3,
   "id": "a388bb76",
   "metadata": {},
   "outputs": [
    {
     "data": {
      "text/plain": [
       "2.0"
      ]
     },
     "metadata": {},
     "output_type": "display_data"
    }
   ],
   "source": [
    "X = [1.0, 1.0, 1.0]\n",
    "t = 1.0\n",
    "k = 0.5\n",
    "alpha = 2.0"
   ]
  },
  {
   "cell_type": "code",
   "execution_count": 4,
   "id": "834359ed",
   "metadata": {},
   "outputs": [
    {
     "data": {
      "text/plain": [
       "3-element Vector{Float64}:\n",
       " 1.5\n",
       " 1.5\n",
       " 1.0"
      ]
     },
     "metadata": {},
     "output_type": "display_data"
    }
   ],
   "source": [
    "# Posición actual\n",
    "x = chi(X,t,k)"
   ]
  },
  {
   "cell_type": "code",
   "execution_count": 5,
   "id": "bc5379d8",
   "metadata": {},
   "outputs": [
    {
     "data": {
      "text/plain": [
       "6.0"
      ]
     },
     "metadata": {},
     "output_type": "display_data"
    }
   ],
   "source": [
    "# Calc temperatura en desc. espacial\n",
    "temp(x,alpha)"
   ]
  }
 ],
 "metadata": {
  "kernelspec": {
   "display_name": "Julia 1.11.4",
   "language": "julia",
   "name": "julia-1.11"
  },
  "language_info": {
   "file_extension": ".jl",
   "mimetype": "application/julia",
   "name": "julia",
   "version": "1.11.4"
  }
 },
 "nbformat": 4,
 "nbformat_minor": 5
}
