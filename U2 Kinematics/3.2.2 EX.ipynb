{
 "cells": [
  {
   "cell_type": "code",
   "execution_count": 6,
   "id": "fe3c1397",
   "metadata": {},
   "outputs": [],
   "source": [
    "# Función que define el movimiento chi(X, t)\n",
    "function chi(X, t, k)\n",
    "    x1 = X[1] + k * (X[1] + X[2]) * t  # Estiramiento en x1\n",
    "    x2 = X[2] + k * (X[1] + X[2]) * t  # Compresión en x2\n",
    "    x3 = X[3]\n",
    "    return [x1, x2, x3]\n",
    "end;"
   ]
  },
  {
   "cell_type": "code",
   "execution_count": 7,
   "id": "dbe1f770",
   "metadata": {},
   "outputs": [],
   "source": [
    "X = [1.0, 1.0, 0.0]\n",
    "k = 1\n",
    "t = 2;"
   ]
  },
  {
   "cell_type": "code",
   "execution_count": 8,
   "id": "466c5fcb",
   "metadata": {},
   "outputs": [],
   "source": [
    "function velocidad(X,t,k)\n",
    "    v1 = k * (X[1] + X[2])\n",
    "    v2 = k * (X[1] + X[2])\n",
    "    v3 = 0.0\n",
    "    return [v1, v2, v3]\n",
    "end;"
   ]
  },
  {
   "cell_type": "code",
   "execution_count": 12,
   "id": "61cfe7fc",
   "metadata": {},
   "outputs": [
    {
     "data": {
      "text/plain": [
       "3-element Vector{Float64}:\n",
       " 2.0\n",
       " 2.0\n",
       " 0.0"
      ]
     },
     "metadata": {},
     "output_type": "display_data"
    }
   ],
   "source": [
    "velocidad(X,t,1)"
   ]
  }
 ],
 "metadata": {
  "kernelspec": {
   "display_name": "Julia 1.11.4",
   "language": "julia",
   "name": "julia-1.11"
  },
  "language_info": {
   "file_extension": ".jl",
   "mimetype": "application/julia",
   "name": "julia",
   "version": "1.11.4"
  }
 },
 "nbformat": 4,
 "nbformat_minor": 5
}
