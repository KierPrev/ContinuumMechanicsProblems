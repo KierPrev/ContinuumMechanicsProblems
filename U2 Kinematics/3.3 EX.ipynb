{
 "cells": [
  {
   "cell_type": "code",
   "execution_count": 15,
   "id": "e021f469",
   "metadata": {},
   "outputs": [],
   "source": [
    "using LinearAlgebra"
   ]
  },
  {
   "cell_type": "code",
   "execution_count": 16,
   "id": "c71e417d",
   "metadata": {},
   "outputs": [],
   "source": [
    "# Función que define el movimiento chi(X, t)\n",
    "function chi(X, t, k)\n",
    "    x1 = X[1] + k * t * X[2]  # Estiramiento en x1\n",
    "    x2 = (1 + k * t) * X[2]  # Compresión en x2\n",
    "    x3 = X[3]\n",
    "    return [x1, x2, x3]\n",
    "end;"
   ]
  },
  {
   "cell_type": "code",
   "execution_count": 17,
   "id": "e26a5590",
   "metadata": {},
   "outputs": [
    {
     "data": {
      "text/plain": [
       "velocidad (generic function with 1 method)"
      ]
     },
     "metadata": {},
     "output_type": "display_data"
    }
   ],
   "source": [
    "function velocidad(X, k)\n",
    "    return [k * X[2], k * X[2], 0.0]  # v = [k X2, k X2, 0]\n",
    "end"
   ]
  },
  {
   "cell_type": "code",
   "execution_count": 18,
   "id": "7626880a",
   "metadata": {},
   "outputs": [],
   "source": [
    "function temp(x, alpha)\n",
    "    return alpha * (x[1] + x[2])\n",
    "end;"
   ]
  },
  {
   "cell_type": "code",
   "execution_count": 19,
   "id": "85b0d46a",
   "metadata": {},
   "outputs": [],
   "source": [
    "function derivadaMaterial(X, t, k, temp)\n",
    "    x = chi(X, t, k)\n",
    "    v = velocidad(X, k)\n",
    "    grad = (alpha, alpha, 0.0)\n",
    "    return dot(v, grad)\n",
    "end;"
   ]
  },
  {
   "cell_type": "code",
   "execution_count": 30,
   "id": "87b82f54",
   "metadata": {},
   "outputs": [
    {
     "data": {
      "text/plain": [
       "2.0"
      ]
     },
     "metadata": {},
     "output_type": "display_data"
    }
   ],
   "source": [
    "X = [1.0, 1.0, 1.0]\n",
    "t = 2.0\n",
    "k = 1\n",
    "alpha = 1.0\n",
    "\n",
    "derivadaMaterial(X, t, k, alpha)"
   ]
  }
 ],
 "metadata": {
  "kernelspec": {
   "display_name": "Julia 1.11.4",
   "language": "julia",
   "name": "julia-1.11"
  },
  "language_info": {
   "file_extension": ".jl",
   "mimetype": "application/julia",
   "name": "julia",
   "version": "1.11.4"
  }
 },
 "nbformat": 4,
 "nbformat_minor": 5
}
