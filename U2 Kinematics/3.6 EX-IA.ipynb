{
 "cells": [
  {
   "cell_type": "code",
   "execution_count": 18,
   "id": "bc3cc2ce",
   "metadata": {},
   "outputs": [],
   "source": [
    "using LinearAlgebra, Latexify"
   ]
  },
  {
   "cell_type": "code",
   "execution_count": null,
   "id": "e2ca44d9",
   "metadata": {},
   "outputs": [],
   "source": [
    "# Traslación\n",
    "function traslacion(X, t)\n",
    "\tc = [t, 0, 0]\n",
    "\treturn X + c\n",
    "end;\n"
   ]
  },
  {
   "cell_type": "code",
   "execution_count": null,
   "id": "acd9be1b",
   "metadata": {},
   "outputs": [],
   "source": [
    "# Rotacion\n",
    "function rotacion(X, t)\n",
    "\ttheta = pi/2\n",
    "\tQ = [cos(theta) -sin(theta) 0; sin(theta) cos(theta) 0; 0 0 1]\n",
    "\treturn Q * X\n",
    "end;\n"
   ]
  },
  {
   "cell_type": "code",
   "execution_count": 6,
   "id": "b4748051",
   "metadata": {},
   "outputs": [],
   "source": [
    "# Parámetros\n",
    "X = [1, 0, 0]\n",
    "t = 1;"
   ]
  },
  {
   "cell_type": "code",
   "execution_count": 20,
   "id": "b68b8aae",
   "metadata": {},
   "outputs": [
    {
     "data": {
      "text/latex": [
       "\\begin{equation}\n",
       "\\left[\n",
       "\\begin{array}{c}\n",
       "2 \\\\\n",
       "0 \\\\\n",
       "0 \\\\\n",
       "\\end{array}\n",
       "\\right]\n",
       "\\end{equation}\n"
      ],
      "text/plain": [
       "L\"\\begin{equation}\n",
       "\\left[\n",
       "\\begin{array}{c}\n",
       "2 \\\\\n",
       "0 \\\\\n",
       "0 \\\\\n",
       "\\end{array}\n",
       "\\right]\n",
       "\\end{equation}\n",
       "\""
      ]
     },
     "metadata": {},
     "output_type": "display_data"
    }
   ],
   "source": [
    "latexify(traslacion(X, t))"
   ]
  },
  {
   "cell_type": "code",
   "execution_count": 21,
   "id": "5e20b7b1",
   "metadata": {},
   "outputs": [
    {
     "data": {
      "text/latex": [
       "\\begin{equation}\n",
       "\\left[\n",
       "\\begin{array}{c}\n",
       "6.123233995736766e-17 \\\\\n",
       "1.0 \\\\\n",
       "0.0 \\\\\n",
       "\\end{array}\n",
       "\\right]\n",
       "\\end{equation}\n"
      ],
      "text/plain": [
       "L\"\\begin{equation}\n",
       "\\left[\n",
       "\\begin{array}{c}\n",
       "6.123233995736766e-17 \\\\\n",
       "1.0 \\\\\n",
       "0.0 \\\\\n",
       "\\end{array}\n",
       "\\right]\n",
       "\\end{equation}\n",
       "\""
      ]
     },
     "metadata": {},
     "output_type": "display_data"
    }
   ],
   "source": [
    "latexify(rotacion(X, t))"
   ]
  }
 ],
 "metadata": {
  "kernelspec": {
   "display_name": "Julia 1.11.4",
   "language": "julia",
   "name": "julia-1.11"
  },
  "language_info": {
   "file_extension": ".jl",
   "mimetype": "application/julia",
   "name": "julia",
   "version": "1.11.4"
  }
 },
 "nbformat": 4,
 "nbformat_minor": 5
}
