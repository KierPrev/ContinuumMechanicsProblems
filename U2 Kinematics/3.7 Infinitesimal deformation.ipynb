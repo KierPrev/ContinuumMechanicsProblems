{
 "cells": [
  {
   "cell_type": "code",
   "execution_count": 6,
   "id": "2f05c6d5",
   "metadata": {},
   "outputs": [
    {
     "data": {
      "text/latex": [
       "$$ \\begin{equation}\n",
       "\\left[\n",
       "\\begin{array}{c}\n",
       "\\mathtt{X1} \\\\\n",
       "\\mathtt{X2} \\\\\n",
       "\\end{array}\n",
       "\\right]\n",
       "\\end{equation}\n",
       " $$"
      ],
      "text/plain": [
       "2-element Vector{Num}:\n",
       " X1\n",
       " X2"
      ]
     },
     "metadata": {},
     "output_type": "display_data"
    }
   ],
   "source": [
    "using Symbolics, LinearAlgebra\n",
    "@variables X1 X2\n",
    "X = [X1, X2]"
   ]
  },
  {
   "cell_type": "code",
   "execution_count": 2,
   "id": "eb158dd3",
   "metadata": {},
   "outputs": [
    {
     "data": {
      "text/latex": [
       "$$ \\begin{equation}\n",
       "\\left[\n",
       "\\begin{array}{c}\n",
       "0.02 \\mathtt{X2} \\\\\n",
       "0.01 \\mathtt{X1} \\\\\n",
       "\\end{array}\n",
       "\\right]\n",
       "\\end{equation}\n",
       " $$"
      ],
      "text/plain": [
       "2-element Vector{Num}:\n",
       " 0.02X2\n",
       " 0.01X1"
      ]
     },
     "metadata": {},
     "output_type": "display_data"
    }
   ],
   "source": [
    "# Campo de desplazamiento\n",
    "u = [0.02 * X2, 0.01 * X1]"
   ]
  },
  {
   "cell_type": "code",
   "execution_count": 3,
   "id": "4995900e",
   "metadata": {},
   "outputs": [
    {
     "data": {
      "text/latex": [
       "$$ \\begin{equation}\n",
       "\\left[\n",
       "\\begin{array}{cc}\n",
       "0 & 0.02 \\\\\n",
       "0.01 & 0 \\\\\n",
       "\\end{array}\n",
       "\\right]\n",
       "\\end{equation}\n",
       " $$"
      ],
      "text/plain": [
       "2×2 Matrix{Num}:\n",
       "    0  0.02\n",
       " 0.01     0"
      ]
     },
     "metadata": {},
     "output_type": "display_data"
    }
   ],
   "source": [
    "# Gradiente de desplazamiento\n",
    "grad_u = [Symbolics.derivative(u[i], X[j]) for i in 1:2, j in 1:2]"
   ]
  },
  {
   "cell_type": "code",
   "execution_count": 4,
   "id": "5b01c351",
   "metadata": {},
   "outputs": [
    {
     "data": {
      "text/latex": [
       "$$ \\begin{equation}\n",
       "\\left[\n",
       "\\begin{array}{cc}\n",
       "0 & 0.015 \\\\\n",
       "0.015 & 0 \\\\\n",
       "\\end{array}\n",
       "\\right]\n",
       "\\end{equation}\n",
       " $$"
      ],
      "text/plain": [
       "2×2 Matrix{Num}:\n",
       "   0.0  0.015\n",
       " 0.015    0.0"
      ]
     },
     "metadata": {},
     "output_type": "display_data"
    }
   ],
   "source": [
    "# Tensor de esfuerzo infinitesimal\n",
    "E = 0.5 * (grad_u + transpose(grad_u))"
   ]
  },
  {
   "cell_type": "code",
   "execution_count": 7,
   "id": "da60e22d",
   "metadata": {},
   "outputs": [
    {
     "data": {
      "text/latex": [
       "$$ \\begin{equation}\n",
       "\\left[\n",
       "\\begin{array}{cc}\n",
       "1 & 0.02 \\\\\n",
       "0.01 & 1 \\\\\n",
       "\\end{array}\n",
       "\\right]\n",
       "\\end{equation}\n",
       " $$"
      ],
      "text/plain": [
       "2×2 Matrix{Num}:\n",
       "  1.0  0.02\n",
       " 0.01   1.0"
      ]
     },
     "metadata": {},
     "output_type": "display_data"
    }
   ],
   "source": [
    "# Gradiente de deformación\n",
    "\n",
    "I2 = Matrix{Float64}(I, 2, 2)\n",
    "F = I2 + grad_u"
   ]
  }
 ],
 "metadata": {
  "kernelspec": {
   "display_name": "Julia 1.11.4",
   "language": "julia",
   "name": "julia-1.11"
  },
  "language_info": {
   "file_extension": ".jl",
   "mimetype": "application/julia",
   "name": "julia",
   "version": "1.11.4"
  }
 },
 "nbformat": 4,
 "nbformat_minor": 5
}
