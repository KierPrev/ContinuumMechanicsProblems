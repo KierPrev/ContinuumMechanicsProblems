{
 "cells": [
  {
   "cell_type": "code",
   "execution_count": 1,
   "id": "a9a56631",
   "metadata": {},
   "outputs": [
    {
     "data": {
      "text/plain": [
       "(X1, X2)"
      ]
     },
     "metadata": {},
     "output_type": "display_data"
    }
   ],
   "source": [
    "using SymPy\n",
    "X1, X2 = symbols(\"X1 X2\")"
   ]
  },
  {
   "cell_type": "code",
   "execution_count": 2,
   "id": "cfea7920",
   "metadata": {},
   "outputs": [
    {
     "data": {
      "text/latex": [
       "$\\left[\\begin{smallmatrix}0.02 X_{2}\\\\0.01 X_{1}\\end{smallmatrix}\\right]$"
      ],
      "text/plain": [
       "2-element Vector{Sym{PyCall.PyObject}}:\n",
       " 0.02⋅X₂\n",
       " 0.01⋅X₁"
      ]
     },
     "metadata": {},
     "output_type": "display_data"
    }
   ],
   "source": [
    "# Campo de desplazamiento\n",
    "u = [0.02 * X2, 0.01 * X1]"
   ]
  },
  {
   "cell_type": "code",
   "execution_count": 3,
   "id": "4de6e6b0",
   "metadata": {},
   "outputs": [
    {
     "data": {
      "text/latex": [
       "$\\left[\\begin{smallmatrix}0 & 0.02\\\\0.01 & 0\\end{smallmatrix}\\right]$"
      ],
      "text/plain": [
       "2×2 Matrix{Sym{PyCall.PyObject}}:\n",
       "                  0  0.0200000000000000\n",
       " 0.0100000000000000                   0"
      ]
     },
     "metadata": {},
     "output_type": "display_data"
    }
   ],
   "source": [
    "#Gradiente de desplazamiento\n",
    "grad_u = [diff(u[i], X) for i in 1:2, X in [X1, X2]]"
   ]
  },
  {
   "cell_type": "code",
   "execution_count": 4,
   "id": "a7933e93",
   "metadata": {},
   "outputs": [
    {
     "data": {
      "text/latex": [
       "$\\left[\\begin{smallmatrix}0 & 0.015\\\\0.015 & 0\\end{smallmatrix}\\right]$"
      ],
      "text/plain": [
       "2×2 Matrix{Sym{PyCall.PyObject}}:\n",
       "                  0  0.0150000000000000\n",
       " 0.0150000000000000                   0"
      ]
     },
     "metadata": {},
     "output_type": "display_data"
    }
   ],
   "source": [
    "# Tensor de esfuerzo infinitesimal\n",
    "E = 0.5 * (grad_u + transpose(grad_u))"
   ]
  },
  {
   "cell_type": "code",
   "execution_count": 7,
   "id": "29f974d8",
   "metadata": {},
   "outputs": [
    {
     "data": {
      "text/latex": [
       "\\begin{equation*}\\begin{cases}0.015 & \\text{=>} &1\\\\-0.015 & \\text{=>} &1\\\\\\end{cases}\\end{equation*}"
      ],
      "text/plain": [
       "Dict{Sym{PyCall.PyObject}, Sym{PyCall.PyObject}} with 2 entries:\n",
       "  0.0150000000000000  => 1\n",
       "  -0.0150000000000000 => 1"
      ]
     },
     "metadata": {},
     "output_type": "display_data"
    }
   ],
   "source": [
    "# Autosistema\n",
    "E.eigenvals()"
   ]
  }
 ],
 "metadata": {
  "kernelspec": {
   "display_name": "Julia 1.11.4",
   "language": "julia",
   "name": "julia-1.11"
  },
  "language_info": {
   "file_extension": ".jl",
   "mimetype": "application/julia",
   "name": "julia",
   "version": "1.11.4"
  }
 },
 "nbformat": 4,
 "nbformat_minor": 5
}
