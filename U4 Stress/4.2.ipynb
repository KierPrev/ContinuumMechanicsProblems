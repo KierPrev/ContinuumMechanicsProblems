{
 "cells": [
  {
   "cell_type": "code",
   "execution_count": 15,
   "id": "036c2079",
   "metadata": {},
   "outputs": [
    {
     "name": "stdout",
     "output_type": "stream",
     "text": [
      "Tensor de esfuerzos T:\n",
      "[2.0 1.0 0.0; 1.0 -1.0 0.0; 0.0 0.0 3.0]\n",
      "\n",
      "Vector normal n1 = [1.0, 0.0, 0.0]\n",
      "Vector de esfuerzo t_n1 = [2.0, 1.0, 0.0]\n",
      "\n",
      "Vector normal n2 = [0.0, 1.0, 0.0]\n",
      "Vector de esfuerzo t_n2 = [1.0, -1.0, 0.0]\n",
      "\n",
      "Vector normal n3 = [0.7071067811865475, 0.7071067811865475, 0.0]\n",
      "Vector de esfuerzo t_n3 = [2.1213203435596424, 0.0, 0.0]\n"
     ]
    }
   ],
   "source": [
    "using LinearAlgebra, SymPy\n",
    "\n",
    "# Definir el tensor de esfuerzos T (matriz 3x3, en MPa)\n",
    "T = [2.0 1.0 0.0;\n",
    "     1.0 -1.0 0.0;\n",
    "     0.0 0.0 3.0]\n",
    "\n",
    "# Definir varias normales unitarias\n",
    "n1 = [1.0, 0.0, 0.0]  # Normal en dirección x\n",
    "n2 = [0.0, 1.0, 0.0]  # Normal en dirección y\n",
    "n3 = normalize([1.0, 1.0, 0.0])  # Normal en dirección (1,1,0) normalizada\n",
    "\n",
    "# Función para calcular el vector de esfuerzo\n",
    "function calcular_esfuerzo(T, n)\n",
    "    return T * n\n",
    "end\n",
    "\n",
    "# Calcular y mostrar los vectores de esfuerzo\n",
    "println(\"Tensor de esfuerzos T:\")\n",
    "println(T)\n",
    "println()\n",
    "\n",
    "println(\"Vector normal n1 = \", n1)\n",
    "println(\"Vector de esfuerzo t_n1 = \", calcular_esfuerzo(T, n1))\n",
    "println()\n",
    "\n",
    "println(\"Vector normal n2 = \", n2)\n",
    "println(\"Vector de esfuerzo t_n2 = \", calcular_esfuerzo(T, n2))\n",
    "println()\n",
    "\n",
    "println(\"Vector normal n3 = \", n3)\n",
    "println(\"Vector de esfuerzo t_n3 = \", calcular_esfuerzo(T, n3))"
   ]
  }
 ],
 "metadata": {
  "kernelspec": {
   "display_name": "Julia 1.11.4",
   "language": "julia",
   "name": "julia-1.11"
  },
  "language_info": {
   "file_extension": ".jl",
   "mimetype": "application/julia",
   "name": "julia",
   "version": "1.11.4"
  }
 },
 "nbformat": 4,
 "nbformat_minor": 5
}
