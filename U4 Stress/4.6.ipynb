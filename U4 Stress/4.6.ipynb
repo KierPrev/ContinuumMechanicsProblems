{
 "cells": [
  {
   "cell_type": "code",
   "execution_count": 15,
   "id": "4e6500df",
   "metadata": {},
   "outputs": [],
   "source": [
    "using LinearAlgebra, Latexify"
   ]
  },
  {
   "cell_type": "code",
   "execution_count": 16,
   "id": "529bb6db",
   "metadata": {},
   "outputs": [
    {
     "data": {
      "text/latex": [
       "\\begin{equation}\n",
       "\\left[\n",
       "\\begin{array}{ccc}\n",
       "3 & -1 & 0 \\\\\n",
       "-1 & 2 & 0 \\\\\n",
       "0 & 0 & 2 \\\\\n",
       "\\end{array}\n",
       "\\right]\n",
       "\\end{equation}\n"
      ],
      "text/plain": [
       "L\"\\begin{equation}\n",
       "\\left[\n",
       "\\begin{array}{ccc}\n",
       "3 & -1 & 0 \\\\\n",
       "-1 & 2 & 0 \\\\\n",
       "0 & 0 & 2 \\\\\n",
       "\\end{array}\n",
       "\\right]\n",
       "\\end{equation}\n",
       "\""
      ]
     },
     "execution_count": 16,
     "metadata": {},
     "output_type": "execute_result"
    }
   ],
   "source": [
    "T = [  3 -1 0;\n",
    "\t-1 2 0;\n",
    "\t 0 0 2]\n",
    "latexify(T)"
   ]
  },
  {
   "cell_type": "code",
   "execution_count": 17,
   "id": "7cfd4340",
   "metadata": {},
   "outputs": [
    {
     "data": {
      "text/latex": [
       "\\begin{equation}\n",
       "\\left[\n",
       "\\begin{array}{c}\n",
       "1.381966011250105 \\\\\n",
       "2.0 \\\\\n",
       "3.618033988749895 \\\\\n",
       "\\end{array}\n",
       "\\right]\n",
       "\\end{equation}\n"
      ],
      "text/plain": [
       "L\"\\begin{equation}\n",
       "\\left[\n",
       "\\begin{array}{c}\n",
       "1.381966011250105 \\\\\n",
       "2.0 \\\\\n",
       "3.618033988749895 \\\\\n",
       "\\end{array}\n",
       "\\right]\n",
       "\\end{equation}\n",
       "\""
      ]
     },
     "execution_count": 17,
     "metadata": {},
     "output_type": "execute_result"
    }
   ],
   "source": [
    "esfuerzos_principales = eigvals(T)\n",
    "latexify(esfuerzos_principales)"
   ]
  },
  {
   "cell_type": "code",
   "execution_count": 19,
   "id": "b79a60ed",
   "metadata": {},
   "outputs": [
    {
     "data": {
      "text/plain": [
       "-1.118033988749895"
      ]
     },
     "execution_count": 19,
     "metadata": {},
     "output_type": "execute_result"
    }
   ],
   "source": [
    "esfuerzo_cizalla_max = (esfuerzos_principales[1] - esfuerzos_principales[3])/2\n",
    "esfuerzo_cizalla_max"
   ]
  }
 ],
 "metadata": {
  "kernelspec": {
   "display_name": "Julia 1.11.4",
   "language": "julia",
   "name": "julia-1.11"
  },
  "language_info": {
   "file_extension": ".jl",
   "mimetype": "application/julia",
   "name": "julia",
   "version": "1.11.4"
  }
 },
 "nbformat": 4,
 "nbformat_minor": 5
}
